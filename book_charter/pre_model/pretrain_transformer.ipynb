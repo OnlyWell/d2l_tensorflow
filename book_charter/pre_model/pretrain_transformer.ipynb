{
 "cells": [
  {
   "cell_type": "code",
   "id": "initial_id",
   "metadata": {
    "collapsed": true
   },
   "source": [
    "from locale import normalize\n",
    "\n",
    "import keras.layers\n",
    "from tensorflow.python.data.ops.dataset_ops import AUTOTUNE\n",
    "\n",
    "'''\n",
    "    转移学习,采用部分的模型,再加上自定义的输入层和辨识层,就能够不受限于模型原先辨识的对象,也就是转移学习(transfer learning)\n",
    "\n",
    "    使用ResNet152V2模型,辨识花朵数据集\n",
    "    加载ResNet部分模型 ----> 加载flower数据集  ---> 特征缩放 ---> 建立模型 ---> 模型训练  --->预测\n",
    "    数据来源: https://www.tensorflow.org/tutorials/load_data/images\n",
    "'''\n",
    "import tensorflow as tf\n",
    "from keras.applications.resnet_v2 import  ResNet152V2\n",
    "from keras.preprocessing import image\n",
    "from keras.applications.resnet_v2 import preprocess_input\n",
    "from keras.applications.resnet_v2 import decode_predictions\n",
    "from keras.layers import Dense,GlobalAveragePooling2D\n",
    "from keras.models import Model\n",
    "import numpy as np\n",
    "import tarfile\n",
    "import os\n",
    "\n",
    "\n",
    "import pathlib\n",
    "# 1.获取数据\n",
    "# dataset_url = \"https://storage.googleapis.com/download.tensorflow.org/example_images/flower_photos.tgz\"\n",
    "# archive = tf.keras.utils.get_file(fname='flower_photos.tgz', origin=dataset_url)\n",
    "# data_dir = pathlib.Path(archive).with_suffix('')\n",
    "#\n",
    "# # 手动解压到当前目录\n",
    "# with tarfile.open(archive) as tar:\n",
    "#     tar.extractall(path='.', filter=\"data\")\n",
    "\n",
    "## 统计flower_photos目录及子目录下的所有图片的总数\n",
    "data_dir = 'flower_photos'\n",
    "num_images = sum([len(files) for r, d, files in os.walk(data_dir)])\n",
    "print(\"Total number of images: \", num_images)\n",
    "\n",
    "print(\"=========================================\")\n",
    "\n",
    "# 2. 加载数据集\n",
    "batch_size = 64\n",
    "img_height = 224\n",
    "img_width = 224\n",
    "\n",
    "## 2.1加载flower训练数据\n",
    "train_ds = tf.keras.preprocessing.image_dataset_from_directory(\n",
    "    data_dir,\n",
    "    validation_split=0.2,\n",
    "    subset=\"training\",\n",
    "    seed=123,\n",
    "    image_size=(img_height, img_width),\n",
    "    batch_size=batch_size\n",
    ")\n",
    "\n",
    "## 2.2 加载flower验证数据\n",
    "val_ds = tf.keras.preprocessing.image_dataset_from_directory(\n",
    "    data_dir,\n",
    "    validation_split=0.2,\n",
    "    subset=\"validation\",\n",
    "    seed=123,\n",
    "    image_size=(img_height, img_width),\n",
    "    batch_size=batch_size\n",
    ")\n",
    "\n",
    "# 3.特征工程处理\n",
    "normalization_layer = keras.layers.Rescaling(1./255)\n",
    "normalized_ds = train_ds.map(lambda x, y: (normalization_layer(x), y))\n",
    "normalized_val_ds = val_ds.map(lambda x, y: (normalization_layer(x), y))\n",
    "# 4.ResNet152V2模型\n",
    "resnet_152_model = ResNet152V2(weights='imagenet', include_top=True, input_shape=(img_height, img_width, 3))\n",
    "## 共有152层卷积层/池化层,加上其他类型共566层。 最后两层为GlobalAveragePooling、Dense,将include_top=False,这两层将被移除。\n",
    "# resnet_152_model.summary()\n",
    "\n",
    "# 5.建立模型结构:使用Function API加上自定义的辨识层(GlobalAveragePooling、Dense),再指定模型的输入输出\n",
    "resnet_152_model = ResNet152V2(weights='imagenet', include_top=False)\n",
    "x = resnet_152_model.output\n",
    "x = GlobalAveragePooling2D()(x)\n",
    "predictions = Dense(10, activation='softmax')(x)\n",
    "\n",
    "## 指定自定义的输入层和输出层\n",
    "new_model = Model(inputs=resnet_152_model.input, outputs=predictions)\n",
    "\n",
    "## 模型前段不需要训练\n",
    "for layer in new_model.layers:\n",
    "    layer.trainable = False\n",
    "\n",
    "## 设置优化器、损失函数、效果衡量指标的类别\n",
    "new_model.compile(optimizer='adam', loss=keras.losses.SparseCategoricalCrossentropy(), metrics=['accuracy'])\n",
    "\n",
    "# 6.模型训练:设定缓存、预存取,提升训练效率\n",
    "AUTOTUNE = tf.data.AUTOTUNE\n",
    "normalized_ds = normalized_ds.cache().prefetch(buffer_size=AUTOTUNE)\n",
    "normalized_val_ds = normalized_val_ds.cache().prefetch(buffer_size=AUTOTUNE)\n",
    "\n",
    "history = new_model.fit(normalized_ds, validation_data=normalized_val_ds, epochs=10)\n",
    "\n",
    "# 7.绘制训练过程的准确率图\n",
    "import matplotlib.pyplot as plt\n",
    "plt.rcParams['font.sans-serif'] = ['SimHei']\n",
    "plt.rcParams['axes.unicode_minus'] = False\n",
    "\n",
    "plt.figure(figsize=(10, 5))\n",
    "plt.plot(history.history['accuracy'], label='accuracy')\n",
    "plt.plot(history.history['val_accuracy'], label='val_accuracy')\n",
    "plt.xlabel('Epoch')\n",
    "plt.ylabel('Accuracy')\n",
    "\n",
    "plt.legend()\n",
    "\n",
    "# 8.显示辨识的类别\n",
    "print(train_ds.class_names)\n",
    "\n",
    "# 9.保存模型\n",
    "new_model.save('resnet_152_model.h5')\n",
    "new_model = tf.keras.models.load_model('resnet_152_model.h5')\n",
    "\n",
    "# 10.预测图片\n",
    "img_path = 'img_test/rose1.png'\n",
    "img = image.load_img(img_path, target_size=(img_height, img_width))\n",
    "x = image.img_to_array(img)\n",
    "x = np.expand_dims(x, axis=0)\n",
    "x = preprocess_input(x)\n",
    "predictions = new_model.predict(x)\n",
    "# 10.显示预测结果\n",
    "y_pred = [round(i * 100, 2) for i in predictions[0]]\n",
    "print(f'预测概率(%): {y_pred}')\n",
    "print(f'预测类别: {train_ds.class_names[np.argmax(predictions)]}')"
   ],
   "outputs": [
    {
     "name": "stdout",
     "output_type": "stream",
     "text": [
      "\u001B[1m46/46\u001B[0m \u001B[32m━━━━━━━━━━━━━━━━━━━━\u001B[0m\u001B[37m\u001B[0m \u001B[1m342s\u001B[0m 7s/step - accuracy: 0.0838 - loss: 2.7929 - val_accuracy: 0.0995 - val_loss: 2.7532\n",
      "Epoch 8/10\n",
      "\u001B[1m46/46\u001B[0m \u001B[32m━━━━━━━━━━━━━━━━━━━━\u001B[0m\u001B[37m\u001B[0m \u001B[1m365s\u001B[0m 8s/step - accuracy: 0.0838 - loss: 2.7929 - val_accuracy: 0.0995 - val_loss: 2.7532\n",
      "Epoch 9/10\n",
      "\u001B[1m46/46\u001B[0m \u001B[32m━━━━━━━━━━━━━━━━━━━━\u001B[0m\u001B[37m\u001B[0m \u001B[1m408s\u001B[0m 9s/step - accuracy: 0.0838 - loss: 2.7929 - val_accuracy: 0.0995 - val_loss: 2.7532\n",
      "Epoch 10/10\n",
      "\u001B[1m46/46\u001B[0m \u001B[32m━━━━━━━━━━━━━━━━━━━━\u001B[0m\u001B[37m\u001B[0m \u001B[1m82978s\u001B[0m 1844s/step - accuracy: 0.0838 - loss: 2.7929 - val_accuracy: 0.0995 - val_loss: 2.7532\n"
     ]
    },
    {
     "name": "stderr",
     "output_type": "stream",
     "text": [
      "WARNING:absl:You are saving your model as an HDF5 file via `model.save()` or `keras.saving.save_model(model)`. This file format is considered legacy. We recommend using instead the native Keras format, e.g. `model.save('my_model.keras')` or `keras.saving.save_model(model, 'my_model.keras')`. \n"
     ]
    },
    {
     "name": "stdout",
     "output_type": "stream",
     "text": [
      "['daisy', 'dandelion', 'roses', 'sunflowers', 'tulips']\n"
     ]
    },
    {
     "name": "stderr",
     "output_type": "stream",
     "text": [
      "WARNING:absl:Compiled the loaded model, but the compiled metrics have yet to be built. `model.compile_metrics` will be empty until you train or evaluate the model.\n"
     ]
    },
    {
     "name": "stdout",
     "output_type": "stream",
     "text": [
      "\u001B[1m1/1\u001B[0m \u001B[32m━━━━━━━━━━━━━━━━━━━━\u001B[0m\u001B[37m\u001B[0m \u001B[1m7s\u001B[0m 7s/step\n",
      "预测概率(%): [np.float32(3.31), np.float32(3.75), np.float32(10.79), np.float32(10.66), np.float32(14.2), np.float32(6.53), np.float32(14.57), np.float32(14.63), np.float32(20.3), np.float32(1.25)]\n"
     ]
    },
    {
     "ename": "IndexError",
     "evalue": "list index out of range",
     "output_type": "error",
     "traceback": [
      "\u001B[31m---------------------------------------------------------------------------\u001B[39m",
      "\u001B[31mIndexError\u001B[39m                                Traceback (most recent call last)",
      "\u001B[36mCell\u001B[39m\u001B[36m \u001B[39m\u001B[32mIn[1]\u001B[39m\u001B[32m, line 129\u001B[39m\n\u001B[32m    127\u001B[39m y_pred = [\u001B[38;5;28mround\u001B[39m(i * \u001B[32m100\u001B[39m, \u001B[32m2\u001B[39m) \u001B[38;5;28;01mfor\u001B[39;00m i \u001B[38;5;129;01min\u001B[39;00m predictions[\u001B[32m0\u001B[39m]]\n\u001B[32m    128\u001B[39m \u001B[38;5;28mprint\u001B[39m(\u001B[33mf\u001B[39m\u001B[33m'\u001B[39m\u001B[33m预测概率(%): \u001B[39m\u001B[38;5;132;01m{\u001B[39;00my_pred\u001B[38;5;132;01m}\u001B[39;00m\u001B[33m'\u001B[39m)\n\u001B[32m--> \u001B[39m\u001B[32m129\u001B[39m \u001B[38;5;28mprint\u001B[39m(\u001B[33mf\u001B[39m\u001B[33m'\u001B[39m\u001B[33m预测类别: \u001B[39m\u001B[38;5;132;01m{\u001B[39;00m\u001B[43mtrain_ds\u001B[49m\u001B[43m.\u001B[49m\u001B[43mclass_names\u001B[49m\u001B[43m[\u001B[49m\u001B[43mnp\u001B[49m\u001B[43m.\u001B[49m\u001B[43margmax\u001B[49m\u001B[43m(\u001B[49m\u001B[43mpredictions\u001B[49m\u001B[43m)\u001B[49m\u001B[43m]\u001B[49m\u001B[38;5;132;01m}\u001B[39;00m\u001B[33m'\u001B[39m)\n",
      "\u001B[31mIndexError\u001B[39m: list index out of range"
     ]
    },
    {
     "data": {
      "text/plain": [
       "<Figure size 1000x500 with 1 Axes>"
      ],
      "image/png": "[encoded data removed]"
     },
     "metadata": {},
     "output_type": "display_data"
    }
   ],
   "execution_count": 1
  }
 ],
 "metadata": {
  "kernelspec": {
   "display_name": "Python 3",
   "language": "python",
   "name": "python3"
  },
  "language_info": {
   "codemirror_mode": {
    "name": "ipython",
    "version": 2
   },
   "file_extension": ".py",
   "mimetype": "text/x-python",
   "name": "python",
   "nbconvert_exporter": "python",
   "pygments_lexer": "ipython2",
   "version": "2.7.6"
  }
 },
 "nbformat": 4,
 "nbformat_minor": 5
}
