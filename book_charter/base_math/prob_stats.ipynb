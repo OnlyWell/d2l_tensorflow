{
 "cells": [
  {
   "cell_type": "code",
   "id": "initial_id",
   "metadata": {
    "collapsed": true,
    "ExecuteTime": {
     "end_time": "2025-03-05T13:30:44.252565Z",
     "start_time": "2025-03-05T13:30:44.234266Z"
    }
   },
   "source": [
    "'''\n",
    "    概率与统计\n",
    "'''\n",
    "import pandas as pd\n",
    "\n",
    "# 示例：创建一个示例 DataFrame\n",
    "data = {'size': ['S', 'M', 'L', 'XL']}\n",
    "df = pd.DataFrame(data)\n",
    "#以字典定义转换规则\n",
    "size_map = {\n",
    "    'S':'1',\n",
    "    'M':'2',\n",
    "    'L':'3',\n",
    "    'XL':'4'\n",
    "}\n",
    "\n",
    "#使用map转换\n",
    "df['size'] = df['size'].map(size_map).fillna(\"默认值\")\n",
    "for key in size_map:\n",
    "    print(key,size_map[key])"
   ],
   "outputs": [
    {
     "name": "stdout",
     "output_type": "stream",
     "text": [
      "S 1\n",
      "M 2\n",
      "L 3\n",
      "XL 4\n"
     ]
    }
   ],
   "execution_count": 3
  },
  {
   "metadata": {
    "ExecuteTime": {
     "end_time": "2025-03-05T13:50:31.639468Z",
     "start_time": "2025-03-05T13:50:31.627596Z"
    }
   },
   "cell_type": "code",
   "source": [
    "'''\n",
    "    抽样\n",
    "'''\n",
    "import random\n",
    "import numpy as np\n",
    "\n",
    "list1 = list(np.arange(1,1000))\n",
    "#简单抽样\n",
    "sub_list = random.sample(list1,5)\n",
    "for i in sub_list:\n",
    "    print(i)\n",
    "print(\"========放回式抽样=========\\n\")\n",
    "#放回式抽样\n",
    "sub_list = random.choices(list1,k=5)\n",
    "for i in sub_list:\n",
    "    print(i)"
   ],
   "id": "1e14d1b5c853d167",
   "outputs": [
    {
     "name": "stdout",
     "output_type": "stream",
     "text": [
      "100\n",
      "97\n",
      "607\n",
      "38\n",
      "799\n",
      "========放回式抽样=========\n",
      "\n",
      "303\n",
      "729\n",
      "977\n",
      "161\n",
      "949\n"
     ]
    }
   ],
   "execution_count": 12
  },
  {
   "metadata": {
    "ExecuteTime": {
     "end_time": "2025-03-05T14:00:11.910613Z",
     "start_time": "2025-03-05T14:00:11.873870Z"
    }
   },
   "cell_type": "code",
   "source": [
    "'''\n",
    "    pandas库进行抽样\n",
    "'''\n",
    "from sklearn import datasets\n",
    "import pandas as pd\n",
    "\n",
    "#加载鸢尾花(iris)资料集\n",
    "iris = datasets.load_iris()\n",
    "\n",
    "#x,y合成一个资料集\n",
    "df = pd.DataFrame(data= iris.data, columns= iris.feature_names)\n",
    "df['y'] = iris.target\n",
    "\n",
    "#随机抽取5个样本\n",
    "df.sample(5)"
   ],
   "id": "121f4f094e4f13a4",
   "outputs": [
    {
     "data": {
      "text/plain": [
       "     sepal length (cm)  sepal width (cm)  petal length (cm)  petal width (cm)  \\\n",
       "34             4.90000           3.10000            1.50000           0.20000   \n",
       "46             5.10000           3.80000            1.60000           0.20000   \n",
       "1              4.90000           3.00000            1.40000           0.20000   \n",
       "119            6.00000           2.20000            5.00000           1.50000   \n",
       "17             5.10000           3.50000            1.40000           0.30000   \n",
       "\n",
       "     y  \n",
       "34   0  \n",
       "46   0  \n",
       "1    0  \n",
       "119  2  \n",
       "17   0  "
      ],
      "text/html": [
       "<div>\n",
       "<style scoped>\n",
       "    .dataframe tbody tr th:only-of-type {\n",
       "        vertical-align: middle;\n",
       "    }\n",
       "\n",
       "    .dataframe tbody tr th {\n",
       "        vertical-align: top;\n",
       "    }\n",
       "\n",
       "    .dataframe thead th {\n",
       "        text-align: right;\n",
       "    }\n",
       "</style>\n",
       "<table border=\"1\" class=\"dataframe\">\n",
       "  <thead>\n",
       "    <tr style=\"text-align: right;\">\n",
       "      <th></th>\n",
       "      <th>sepal length (cm)</th>\n",
       "      <th>sepal width (cm)</th>\n",
       "      <th>petal length (cm)</th>\n",
       "      <th>petal width (cm)</th>\n",
       "      <th>y</th>\n",
       "    </tr>\n",
       "  </thead>\n",
       "  <tbody>\n",
       "    <tr>\n",
       "      <th>34</th>\n",
       "      <td>4.90000</td>\n",
       "      <td>3.10000</td>\n",
       "      <td>1.50000</td>\n",
       "      <td>0.20000</td>\n",
       "      <td>0</td>\n",
       "    </tr>\n",
       "    <tr>\n",
       "      <th>46</th>\n",
       "      <td>5.10000</td>\n",
       "      <td>3.80000</td>\n",
       "      <td>1.60000</td>\n",
       "      <td>0.20000</td>\n",
       "      <td>0</td>\n",
       "    </tr>\n",
       "    <tr>\n",
       "      <th>1</th>\n",
       "      <td>4.90000</td>\n",
       "      <td>3.00000</td>\n",
       "      <td>1.40000</td>\n",
       "      <td>0.20000</td>\n",
       "      <td>0</td>\n",
       "    </tr>\n",
       "    <tr>\n",
       "      <th>119</th>\n",
       "      <td>6.00000</td>\n",
       "      <td>2.20000</td>\n",
       "      <td>5.00000</td>\n",
       "      <td>1.50000</td>\n",
       "      <td>2</td>\n",
       "    </tr>\n",
       "    <tr>\n",
       "      <th>17</th>\n",
       "      <td>5.10000</td>\n",
       "      <td>3.50000</td>\n",
       "      <td>1.40000</td>\n",
       "      <td>0.30000</td>\n",
       "      <td>0</td>\n",
       "    </tr>\n",
       "  </tbody>\n",
       "</table>\n",
       "</div>"
      ]
     },
     "execution_count": 15,
     "metadata": {},
     "output_type": "execute_result"
    }
   ],
   "execution_count": 15
  }
 ],
 "metadata": {
  "kernelspec": {
   "display_name": "Python 3",
   "language": "python",
   "name": "python3"
  },
  "language_info": {
   "codemirror_mode": {
    "name": "ipython",
    "version": 2
   },
   "file_extension": ".py",
   "mimetype": "text/x-python",
   "name": "python",
   "nbconvert_exporter": "python",
   "pygments_lexer": "ipython2",
   "version": "2.7.6"
  }
 },
 "nbformat": 4,
 "nbformat_minor": 5
}
