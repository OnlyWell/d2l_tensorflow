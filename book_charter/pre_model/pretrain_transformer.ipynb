{
 "cells": [
  {
   "cell_type": "code",
   "id": "initial_id",
   "metadata": {
    "collapsed": true,
    "jupyter": {
     "is_executing": true
    },
    "ExecuteTime": {
     "start_time": "2025-07-07T14:27:03.622907Z"
    }
   },
   "source": [
    "from locale import normalize\n",
    "\n",
    "import keras.layers\n",
    "from tensorflow.python.data.ops.dataset_ops import AUTOTUNE\n",
    "\n",
    "'''\n",
    "    转移学习,采用部分的模型,再加上自定义的输入层和辨识层,就能够不受限于模型原先辨识的对象,也就是转移学习(transfer learning)\n",
    "\n",
    "    使用ResNet152V2模型,辨识花朵数据集\n",
    "    加载ResNet部分模型 ----> 加载flower数据集  ---> 特征缩放 ---> 建立模型 ---> 模型训练  --->预测\n",
    "    数据来源: https://www.tensorflow.org/tutorials/load_data/images\n",
    "'''\n",
    "import tensorflow as tf\n",
    "from keras.applications.resnet_v2 import  ResNet152V2\n",
    "from keras.preprocessing import image\n",
    "from keras.applications.resnet_v2 import preprocess_input\n",
    "from keras.applications.resnet_v2 import decode_predictions\n",
    "from keras.layers import Dense,GlobalAveragePooling2D\n",
    "from keras.models import Model\n",
    "import numpy as np\n",
    "import tarfile\n",
    "import os\n",
    "\n",
    "\n",
    "import pathlib\n",
    "# 1.获取数据\n",
    "# dataset_url = \"https://storage.googleapis.com/download.tensorflow.org/example_images/flower_photos.tgz\"\n",
    "# archive = tf.keras.utils.get_file(fname='flower_photos.tgz', origin=dataset_url)\n",
    "# data_dir = pathlib.Path(archive).with_suffix('')\n",
    "#\n",
    "# # 手动解压到当前目录\n",
    "# with tarfile.open(archive) as tar:\n",
    "#     tar.extractall(path='.', filter=\"data\")\n",
    "\n",
    "## 统计flower_photos目录及子目录下的所有图片的总数\n",
    "data_dir = 'flower_photos'\n",
    "num_images = sum([len(files) for r, d, files in os.walk(data_dir)])\n",
    "print(\"Total number of images: \", num_images)\n",
    "\n",
    "print(\"=========================================\")\n",
    "\n",
    "# 2. 加载数据集\n",
    "batch_size = 64\n",
    "img_height = 224\n",
    "img_width = 224\n",
    "\n",
    "## 2.1加载flower训练数据\n",
    "train_ds = tf.keras.preprocessing.image_dataset_from_directory(\n",
    "    data_dir,\n",
    "    validation_split=0.2,\n",
    "    subset=\"training\",\n",
    "    seed=123,\n",
    "    image_size=(img_height, img_width),\n",
    "    batch_size=batch_size\n",
    ")\n",
    "\n",
    "## 2.2 加载flower验证数据\n",
    "val_ds = tf.keras.preprocessing.image_dataset_from_directory(\n",
    "    data_dir,\n",
    "    validation_split=0.2,\n",
    "    subset=\"validation\",\n",
    "    seed=123,\n",
    "    image_size=(img_height, img_width),\n",
    "    batch_size=batch_size\n",
    ")\n",
    "\n",
    "# 3.特征工程处理\n",
    "normalization_layer = keras.layers.Rescaling(1./255)\n",
    "normalized_ds = train_ds.map(lambda x, y: (normalization_layer(x), y))\n",
    "normalized_val_ds = val_ds.map(lambda x, y: (normalization_layer(x), y))\n",
    "# 4.ResNet152V2模型\n",
    "resnet_152_model = ResNet152V2(weights='imagenet', include_top=True, input_shape=(img_height, img_width, 3))\n",
    "## 共有152层卷积层/池化层,加上其他类型共566层。 最后两层为GlobalAveragePooling、Dense,将include_top=False,这两层将被移除。\n",
    "# resnet_152_model.summary()\n",
    "\n",
    "# 5.建立模型结构:使用Function API加上自定义的辨识层(GlobalAveragePooling、Dense),再指定模型的输入输出\n",
    "resnet_152_model = ResNet152V2(weights='imagenet', include_top=False)\n",
    "x = resnet_152_model.output\n",
    "x = GlobalAveragePooling2D()(x)\n",
    "predictions = Dense(10, activation='softmax')(x)\n",
    "\n",
    "## 指定自定义的输入层和输出层\n",
    "new_model = Model(inputs=resnet_152_model.input, outputs=predictions)\n",
    "\n",
    "## 模型前段不需要训练\n",
    "for layer in new_model.layers:\n",
    "    layer.trainable = False\n",
    "\n",
    "## 设置优化器、损失函数、效果衡量指标的类别\n",
    "new_model.compile(optimizer='adam', loss=keras.losses.SparseCategoricalCrossentropy(), metrics=['accuracy'])\n",
    "\n",
    "# 6.模型训练:设定缓存、预存取,提升训练效率\n",
    "AUTOTUNE = tf.data.AUTOTUNE\n",
    "normalized_ds = normalized_ds.cache().prefetch(buffer_size=AUTOTUNE)\n",
    "normalized_val_ds = normalized_val_ds.cache().prefetch(buffer_size=AUTOTUNE)\n",
    "\n",
    "history = new_model.fit(normalized_ds, validation_data=normalized_val_ds, epochs=10)\n",
    "\n",
    "# 7.绘制训练过程的准确率图\n",
    "import matplotlib.pyplot as plt\n",
    "plt.rcParams['font.sans-serif'] = ['SimHei']\n",
    "plt.rcParams['axes.unicode_minus'] = False\n",
    "\n",
    "plt.figure(figsize=(10, 5))\n",
    "plt.plot(history.history['accuracy'], label='accuracy')\n",
    "plt.plot(history.history['val_accuracy'], label='val_accuracy')\n",
    "plt.xlabel('Epoch')\n",
    "plt.ylabel('Accuracy')\n",
    "\n",
    "plt.legend()"
   ],
   "outputs": [
    {
     "name": "stdout",
     "output_type": "stream",
     "text": [
      "Total number of images:  3671\n",
      "=========================================\n",
      "Found 3670 files belonging to 5 classes.\n",
      "Using 2936 files for training.\n",
      "Found 3670 files belonging to 5 classes.\n",
      "Using 734 files for validation.\n",
      "Epoch 1/10\n"
     ]
    },
    {
     "name": "stderr",
     "output_type": "stream",
     "text": [
      "E:\\develop\\anaconda3\\envs\\d2l_tensorflow\\Lib\\site-packages\\keras\\src\\backend\\tensorflow\\trainer.py:83: UserWarning: The model does not have any trainable weights.\n",
      "  warnings.warn(\"The model does not have any trainable weights.\")\n"
     ]
    },
    {
     "name": "stdout",
     "output_type": "stream",
     "text": [
      "\u001B[1m 4/46\u001B[0m \u001B[32m━\u001B[0m\u001B[37m━━━━━━━━━━━━━━━━━━━\u001B[0m \u001B[1m4:20\u001B[0m 6s/step - accuracy: 0.1449 - loss: 2.8980"
     ]
    }
   ],
   "execution_count": null
  }
 ],
 "metadata": {
  "kernelspec": {
   "display_name": "Python 3",
   "language": "python",
   "name": "python3"
  },
  "language_info": {
   "codemirror_mode": {
    "name": "ipython",
    "version": 2
   },
   "file_extension": ".py",
   "mimetype": "text/x-python",
   "name": "python",
   "nbconvert_exporter": "python",
   "pygments_lexer": "ipython2",
   "version": "2.7.6"
  }
 },
 "nbformat": 4,
 "nbformat_minor": 5
}
