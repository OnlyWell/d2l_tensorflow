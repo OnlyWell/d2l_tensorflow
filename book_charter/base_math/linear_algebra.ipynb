{
 "cells": [
  {
   "cell_type": "code",
   "id": "initial_id",
   "metadata": {
    "collapsed": true,
    "ExecuteTime": {
     "end_time": "2025-01-24T13:42:53.493843Z",
     "start_time": "2025-01-24T13:42:53.482356Z"
    }
   },
   "source": [
    "'''\n",
    "    线性代数\n",
    "'''\n",
    "import numpy as np\n",
    "import math\n",
    "#长度(欧几里得距离)\n",
    "v = np.array([1,2])\n",
    "\n",
    "#计算向量长度\n",
    "print((v[0]**2 + v[1]**2)**(1/2))\n",
    "\n",
    "#1.计算向量长度\n",
    "print(np.linalg.norm(v))\n",
    "\n",
    "print(\"=========================计算方向============================\")\n",
    "#2.计算方向\n",
    "\n",
    "v1 = np.array([2,1])\n",
    "vTan = v1[0]/v1[1]\n",
    "\n",
    "print('tan(θ)=1/2')\n",
    "theta = math.atan(vTan)\n",
    "print('θ=',theta)\n",
    "print('弧度(radian) = ',round(theta,4))\n",
    "print('角度(degree) = ',round(theta*180/math.pi,4))"
   ],
   "outputs": [
    {
     "name": "stdout",
     "output_type": "stream",
     "text": [
      "2.23606797749979\n",
      "2.23606797749979\n",
      "=========================计算方向============================\n",
      "tan(θ)=1/2\n",
      "θ= 1.1071487177940904\n",
      "弧度(radian) =  1.1071\n",
      "角度(degree) =  63.4349\n"
     ]
    }
   ],
   "execution_count": 7
  },
  {
   "metadata": {
    "ExecuteTime": {
     "end_time": "2025-02-05T14:20:26.367134Z",
     "start_time": "2025-02-05T14:20:26.143731Z"
    }
   },
   "cell_type": "code",
   "source": [
    "'''\n",
    "    傅里叶变换包\n",
    "'''\n",
    "import numpy as np\n",
    "\n",
    "\n"
   ],
   "id": "69d2f300a4de5851",
   "outputs": [
    {
     "ename": "IndexError",
     "evalue": "index -2 is out of bounds for axis 0 with size 1",
     "output_type": "error",
     "traceback": [
      "\u001B[1;31m---------------------------------------------------------------------------\u001B[0m",
      "\u001B[1;31mIndexError\u001B[0m                                Traceback (most recent call last)",
      "Cell \u001B[1;32mIn[4], line 7\u001B[0m\n\u001B[0;32m      4\u001B[0m \u001B[38;5;28;01mimport\u001B[39;00m \u001B[38;5;21;01mnumpy\u001B[39;00m \u001B[38;5;28;01mas\u001B[39;00m \u001B[38;5;21;01mnp\u001B[39;00m\n\u001B[0;32m      6\u001B[0m v \u001B[38;5;241m=\u001B[39m np\u001B[38;5;241m.\u001B[39marray([\u001B[38;5;241m1\u001B[39m])\n\u001B[1;32m----> 7\u001B[0m \u001B[38;5;28mprint\u001B[39m(np\u001B[38;5;241m.\u001B[39mfft\u001B[38;5;241m.\u001B[39mfft2(v))\n",
      "File \u001B[1;32mE:\\develop\\anaconda3\\envs\\d2l_tensorflow\\Lib\\site-packages\\numpy\\fft\\_pocketfft.py:1135\u001B[0m, in \u001B[0;36mfft2\u001B[1;34m(a, s, axes, norm, out)\u001B[0m\n\u001B[0;32m   1013\u001B[0m \u001B[38;5;129m@array_function_dispatch\u001B[39m(_fftn_dispatcher)\n\u001B[0;32m   1014\u001B[0m \u001B[38;5;28;01mdef\u001B[39;00m \u001B[38;5;21mfft2\u001B[39m(a, s\u001B[38;5;241m=\u001B[39m\u001B[38;5;28;01mNone\u001B[39;00m, axes\u001B[38;5;241m=\u001B[39m(\u001B[38;5;241m-\u001B[39m\u001B[38;5;241m2\u001B[39m, \u001B[38;5;241m-\u001B[39m\u001B[38;5;241m1\u001B[39m), norm\u001B[38;5;241m=\u001B[39m\u001B[38;5;28;01mNone\u001B[39;00m, out\u001B[38;5;241m=\u001B[39m\u001B[38;5;28;01mNone\u001B[39;00m):\n\u001B[0;32m   1015\u001B[0m \u001B[38;5;250m    \u001B[39m\u001B[38;5;124;03m\"\"\"\u001B[39;00m\n\u001B[0;32m   1016\u001B[0m \u001B[38;5;124;03m    Compute the 2-dimensional discrete Fourier Transform.\u001B[39;00m\n\u001B[0;32m   1017\u001B[0m \n\u001B[1;32m   (...)\u001B[0m\n\u001B[0;32m   1133\u001B[0m \n\u001B[0;32m   1134\u001B[0m \u001B[38;5;124;03m    \"\"\"\u001B[39;00m\n\u001B[1;32m-> 1135\u001B[0m     \u001B[38;5;28;01mreturn\u001B[39;00m _raw_fftnd(a, s, axes, fft, norm, out\u001B[38;5;241m=\u001B[39mout)\n",
      "File \u001B[1;32mE:\\develop\\anaconda3\\envs\\d2l_tensorflow\\Lib\\site-packages\\numpy\\fft\\_pocketfft.py:737\u001B[0m, in \u001B[0;36m_raw_fftnd\u001B[1;34m(a, s, axes, function, norm, out)\u001B[0m\n\u001B[0;32m    735\u001B[0m \u001B[38;5;28;01mdef\u001B[39;00m \u001B[38;5;21m_raw_fftnd\u001B[39m(a, s\u001B[38;5;241m=\u001B[39m\u001B[38;5;28;01mNone\u001B[39;00m, axes\u001B[38;5;241m=\u001B[39m\u001B[38;5;28;01mNone\u001B[39;00m, function\u001B[38;5;241m=\u001B[39mfft, norm\u001B[38;5;241m=\u001B[39m\u001B[38;5;28;01mNone\u001B[39;00m, out\u001B[38;5;241m=\u001B[39m\u001B[38;5;28;01mNone\u001B[39;00m):\n\u001B[0;32m    736\u001B[0m     a \u001B[38;5;241m=\u001B[39m asarray(a)\n\u001B[1;32m--> 737\u001B[0m     s, axes \u001B[38;5;241m=\u001B[39m _cook_nd_args(a, s, axes)\n\u001B[0;32m    738\u001B[0m     itl \u001B[38;5;241m=\u001B[39m \u001B[38;5;28mlist\u001B[39m(\u001B[38;5;28mrange\u001B[39m(\u001B[38;5;28mlen\u001B[39m(axes)))\n\u001B[0;32m    739\u001B[0m     itl\u001B[38;5;241m.\u001B[39mreverse()\n",
      "File \u001B[1;32mE:\\develop\\anaconda3\\envs\\d2l_tensorflow\\Lib\\site-packages\\numpy\\fft\\_pocketfft.py:704\u001B[0m, in \u001B[0;36m_cook_nd_args\u001B[1;34m(a, s, axes, invreal)\u001B[0m\n\u001B[0;32m    702\u001B[0m         s \u001B[38;5;241m=\u001B[39m \u001B[38;5;28mlist\u001B[39m(a\u001B[38;5;241m.\u001B[39mshape)\n\u001B[0;32m    703\u001B[0m     \u001B[38;5;28;01melse\u001B[39;00m:\n\u001B[1;32m--> 704\u001B[0m         s \u001B[38;5;241m=\u001B[39m take(a\u001B[38;5;241m.\u001B[39mshape, axes)\n\u001B[0;32m    705\u001B[0m \u001B[38;5;28;01melse\u001B[39;00m:\n\u001B[0;32m    706\u001B[0m     shapeless \u001B[38;5;241m=\u001B[39m \u001B[38;5;28;01mFalse\u001B[39;00m\n",
      "File \u001B[1;32mE:\\develop\\anaconda3\\envs\\d2l_tensorflow\\Lib\\site-packages\\numpy\\_core\\fromnumeric.py:203\u001B[0m, in \u001B[0;36mtake\u001B[1;34m(a, indices, axis, out, mode)\u001B[0m\n\u001B[0;32m    109\u001B[0m \u001B[38;5;129m@array_function_dispatch\u001B[39m(_take_dispatcher)\n\u001B[0;32m    110\u001B[0m \u001B[38;5;28;01mdef\u001B[39;00m \u001B[38;5;21mtake\u001B[39m(a, indices, axis\u001B[38;5;241m=\u001B[39m\u001B[38;5;28;01mNone\u001B[39;00m, out\u001B[38;5;241m=\u001B[39m\u001B[38;5;28;01mNone\u001B[39;00m, mode\u001B[38;5;241m=\u001B[39m\u001B[38;5;124m'\u001B[39m\u001B[38;5;124mraise\u001B[39m\u001B[38;5;124m'\u001B[39m):\n\u001B[0;32m    111\u001B[0m \u001B[38;5;250m    \u001B[39m\u001B[38;5;124;03m\"\"\"\u001B[39;00m\n\u001B[0;32m    112\u001B[0m \u001B[38;5;124;03m    Take elements from an array along an axis.\u001B[39;00m\n\u001B[0;32m    113\u001B[0m \n\u001B[1;32m   (...)\u001B[0m\n\u001B[0;32m    201\u001B[0m \u001B[38;5;124;03m           [5, 7]])\u001B[39;00m\n\u001B[0;32m    202\u001B[0m \u001B[38;5;124;03m    \"\"\"\u001B[39;00m\n\u001B[1;32m--> 203\u001B[0m     \u001B[38;5;28;01mreturn\u001B[39;00m _wrapfunc(a, \u001B[38;5;124m'\u001B[39m\u001B[38;5;124mtake\u001B[39m\u001B[38;5;124m'\u001B[39m, indices, axis\u001B[38;5;241m=\u001B[39maxis, out\u001B[38;5;241m=\u001B[39mout, mode\u001B[38;5;241m=\u001B[39mmode)\n",
      "File \u001B[1;32mE:\\develop\\anaconda3\\envs\\d2l_tensorflow\\Lib\\site-packages\\numpy\\_core\\fromnumeric.py:54\u001B[0m, in \u001B[0;36m_wrapfunc\u001B[1;34m(obj, method, *args, **kwds)\u001B[0m\n\u001B[0;32m     52\u001B[0m bound \u001B[38;5;241m=\u001B[39m \u001B[38;5;28mgetattr\u001B[39m(obj, method, \u001B[38;5;28;01mNone\u001B[39;00m)\n\u001B[0;32m     53\u001B[0m \u001B[38;5;28;01mif\u001B[39;00m bound \u001B[38;5;129;01mis\u001B[39;00m \u001B[38;5;28;01mNone\u001B[39;00m:\n\u001B[1;32m---> 54\u001B[0m     \u001B[38;5;28;01mreturn\u001B[39;00m _wrapit(obj, method, \u001B[38;5;241m*\u001B[39margs, \u001B[38;5;241m*\u001B[39m\u001B[38;5;241m*\u001B[39mkwds)\n\u001B[0;32m     56\u001B[0m \u001B[38;5;28;01mtry\u001B[39;00m:\n\u001B[0;32m     57\u001B[0m     \u001B[38;5;28;01mreturn\u001B[39;00m bound(\u001B[38;5;241m*\u001B[39margs, \u001B[38;5;241m*\u001B[39m\u001B[38;5;241m*\u001B[39mkwds)\n",
      "File \u001B[1;32mE:\\develop\\anaconda3\\envs\\d2l_tensorflow\\Lib\\site-packages\\numpy\\_core\\fromnumeric.py:46\u001B[0m, in \u001B[0;36m_wrapit\u001B[1;34m(obj, method, *args, **kwds)\u001B[0m\n\u001B[0;32m     43\u001B[0m \u001B[38;5;66;03m# As this already tried the method, subok is maybe quite reasonable here\u001B[39;00m\n\u001B[0;32m     44\u001B[0m \u001B[38;5;66;03m# but this follows what was done before. TODO: revisit this.\u001B[39;00m\n\u001B[0;32m     45\u001B[0m arr, \u001B[38;5;241m=\u001B[39m conv\u001B[38;5;241m.\u001B[39mas_arrays(subok\u001B[38;5;241m=\u001B[39m\u001B[38;5;28;01mFalse\u001B[39;00m)\n\u001B[1;32m---> 46\u001B[0m result \u001B[38;5;241m=\u001B[39m \u001B[38;5;28mgetattr\u001B[39m(arr, method)(\u001B[38;5;241m*\u001B[39margs, \u001B[38;5;241m*\u001B[39m\u001B[38;5;241m*\u001B[39mkwds)\n\u001B[0;32m     48\u001B[0m \u001B[38;5;28;01mreturn\u001B[39;00m conv\u001B[38;5;241m.\u001B[39mwrap(result, to_scalar\u001B[38;5;241m=\u001B[39m\u001B[38;5;28;01mFalse\u001B[39;00m)\n",
      "\u001B[1;31mIndexError\u001B[0m: index -2 is out of bounds for axis 0 with size 1"
     ]
    }
   ],
   "execution_count": 4
  },
  {
   "metadata": {
    "ExecuteTime": {
     "end_time": "2025-02-05T14:21:12.719658Z",
     "start_time": "2025-02-05T14:21:09.729530Z"
    }
   },
   "cell_type": "code",
   "source": [
    "#3.向量的加减法\n",
    "import numpy as np\n",
    "import matplotlib.pyplot as plt\n",
    "v = np.array([1,2])\n",
    "v1 = np.array([1,2]) - 2\n",
    "v2 = np.array([1,2]) + 2\n",
    "\n",
    "#原点\n",
    "origin = [0],[0]\n",
    "\n",
    "#画有箭头的线\n",
    "plt.quiver(*origin, *v1, scale=10,color='r')\n",
    "plt.quiver(*origin, *v, scale=10,color='b')\n",
    "plt.quiver(*origin, *v2, scale=10,color='g')\n",
    "\n",
    "#作图\n",
    "plt.axis('equal')\n",
    "plt.grid()\n",
    "\n",
    "plt.xticks(np.arange(-0.05,0.06,0.01),labels=np.arange(-5,6,1))\n",
    "plt.yticks(np.arange(-3,5,1)/100,labels=np.arange(-3,5,1))\n",
    "plt.show()\n",
    "\n",
    "\n"
   ],
   "id": "7be576288274bf5",
   "outputs": [
    {
     "data": {
      "text/plain": [
       "<Figure size 640x480 with 1 Axes>"
      ],
      "image/png": "[encoded data removed]"
     },
     "metadata": {},
     "output_type": "display_data"
    }
   ],
   "execution_count": 5
  },
  {
   "metadata": {
    "jupyter": {
     "is_executing": true
    }
   },
   "cell_type": "code",
   "source": [
    "#向量乘除法\n",
    "import numpy as np\n",
    "import matplotlib.pyplot as plt\n",
    "\n",
    "#向量\n",
    "v = np.array([1,2])\n",
    "v1 = np.array([1,2]) * 2\n",
    "v2 = np.array([1,2]) / 2\n",
    "\n",
    "#原点\n",
    "origin = [0],[0]\n",
    "#画有箭头的线\n",
    "plt.quiver(*origin, *v1, scale=10,color='r')\n",
    "plt.quiver(*origin, *v, scale=10,color='b')\n",
    "plt.quiver(*origin, *v2, scale=10,color='g')\n",
    "\n",
    "plt.annotate('orgial vector',(0.025,0.01),xycoords='data',fontsize=12)\n",
    "\n",
    "#作图\n",
    "plt.axis('equal')\n",
    "plt.grid()\n",
    "\n",
    "plt.xticks(np.arange(-0.05,0.06,0.01),labels=np.arange(-5,6,1))\n",
    "plt.yticks(np.arange(-3,5,1)/100,labels=np.arange(-3,5,1))\n",
    "plt.show()"
   ],
   "id": "5634043bd8b05b46",
   "outputs": [],
   "execution_count": null
  },
  {
   "metadata": {
    "ExecuteTime": {
     "end_time": "2025-02-05T12:42:34.849270Z",
     "start_time": "2025-02-05T12:42:34.666470Z"
    }
   },
   "cell_type": "code",
   "source": [
    "#向量加减乘除另外一个向量\n",
    "import numpy as np\n",
    "import matplotlib.pyplot as plt\n",
    "v = np.array([1,2])\n",
    "s = np.array([-3,2])\n",
    "v2 = v + s\n",
    "\n",
    "#原点\n",
    "origin = [0],[0]\n",
    "\n",
    "#画有箭头的线\n",
    "plt.quiver(*origin, *v2, scale=10,color='r')\n",
    "plt.quiver(*origin, *v, scale=10,color='b')\n",
    "plt.quiver(*origin, *s, scale=10,color='g')\n",
    "plt.annotate('orgial vector',(0.025,0.01),xycoords='data',fontsize=12)\n",
    "\n",
    "#作图\n",
    "plt.axis('equal')\n",
    "plt.grid()\n",
    "\n",
    "plt.xticks(np.arange(-0.05,0.06,0.01),labels=np.arange(-5,6,1))\n",
    "plt.yticks(np.arange(-3,5,1)/100,labels=np.arange(-3,5,1))\n",
    "plt.show()\n"
   ],
   "id": "f061b91a78ade0c3",
   "outputs": [
    {
     "data": {
      "text/plain": [
       "<Figure size 640x480 with 1 Axes>"
      ],
      "image/png": "[encoded data removed]"
     },
     "metadata": {},
     "output_type": "display_data"
    }
   ],
   "execution_count": 8
  },
  {
   "metadata": {
    "ExecuteTime": {
     "end_time": "2025-02-05T12:44:55.469457Z",
     "start_time": "2025-02-05T12:44:55.461132Z"
    }
   },
   "cell_type": "code",
   "source": [
    "#向量的内积(点积)\n",
    "import numpy as np\n",
    "\n",
    "v = np.array([1,2])\n",
    "s = np.array([3,4])\n",
    "\n",
    "d = v @ s\n",
    "print(d)\n",
    "print(np.dot(v,s))\n",
    "f = v * s\n",
    "print(f)"
   ],
   "id": "b2a106ff68e116a7",
   "outputs": [
    {
     "name": "stdout",
     "output_type": "stream",
     "text": [
      "11\n",
      "11\n",
      "[3 8]\n"
     ]
    }
   ],
   "execution_count": 11
  },
  {
   "metadata": {
    "ExecuteTime": {
     "end_time": "2025-02-05T12:48:54.723508Z",
     "start_time": "2025-02-05T12:48:54.706054Z"
    }
   },
   "cell_type": "code",
   "source": [
    "#计算两个向量的夹角\n",
    "import numpy as np\n",
    "import math\n",
    "v = np.array([1,2])\n",
    "s = np.array([3,4])\n",
    "\n",
    "#向量长度\n",
    "vMag = np.linalg.norm(v)\n",
    "sMag = np.linalg.norm(s)\n",
    "\n",
    "#计算cos\n",
    "cos = v @ s / (vMag * sMag)\n",
    "\n",
    "#计算角度\n",
    "theta = math.degrees(math.acos(cos))\n",
    "print(theta)"
   ],
   "id": "bf53222a06075ad3",
   "outputs": [
    {
     "name": "stdout",
     "output_type": "stream",
     "text": [
      "10.304846468766044\n"
     ]
    }
   ],
   "execution_count": 12
  }
 ],
 "metadata": {
  "kernelspec": {
   "display_name": "Python 3",
   "language": "python",
   "name": "python3"
  },
  "language_info": {
   "codemirror_mode": {
    "name": "ipython",
    "version": 2
   },
   "file_extension": ".py",
   "mimetype": "text/x-python",
   "name": "python",
   "nbconvert_exporter": "python",
   "pygments_lexer": "ipython2",
   "version": "2.7.6"
  }
 },
 "nbformat": 4,
 "nbformat_minor": 5
}
