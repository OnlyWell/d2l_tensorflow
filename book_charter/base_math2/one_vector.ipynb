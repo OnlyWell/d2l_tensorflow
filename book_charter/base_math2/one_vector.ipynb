{
 "cells": [
  {
   "cell_type": "code",
   "id": "initial_id",
   "metadata": {
    "collapsed": true,
    "ExecuteTime": {
     "end_time": "2025-03-04T13:24:14.452170Z",
     "start_time": "2025-03-04T13:24:14.437257Z"
    }
   },
   "source": [
    "import math\n",
    "\n",
    "'''\n",
    "1.向量\n",
    "'''\n",
    "import numpy as np\n",
    "\n",
    "#定义一维向量\n",
    "v = np.array([1,2,3])\n",
    "\n",
    "#向量的长度\n",
    "print(np.linalg.norm(v))\n",
    "\n",
    "#计算向量的方向--->夹角\n",
    "\n",
    "#计算角度,通过反函数计算出弧度(360度与2π的转化)\n",
    "print(math.degrees(math.acos(1/2)))"
   ],
   "outputs": [
    {
     "name": "stdout",
     "output_type": "stream",
     "text": [
      "3.7416573867739413\n",
      "60.00000000000001\n"
     ]
    }
   ],
   "execution_count": 5
  },
  {
   "metadata": {
    "ExecuteTime": {
     "end_time": "2025-03-04T13:30:07.292340Z",
     "start_time": "2025-03-04T13:30:07.283294Z"
    }
   },
   "cell_type": "code",
   "source": [
    "'''\n",
    "2.矩阵\n",
    "'''\n",
    "import numpy as np\n",
    "\n",
    "v = np.arange(1,11).reshape(2,5)\n",
    "print(v)\n",
    "print(v.T)"
   ],
   "id": "2d613991c44b0ee2",
   "outputs": [
    {
     "name": "stdout",
     "output_type": "stream",
     "text": [
      "[[ 1  2  3  4  5]\n",
      " [ 6  7  8  9 10]]\n",
      "[[ 1  6]\n",
      " [ 2  7]\n",
      " [ 3  8]\n",
      " [ 4  9]\n",
      " [ 5 10]]\n"
     ]
    }
   ],
   "execution_count": 8
  }
 ],
 "metadata": {
  "kernelspec": {
   "display_name": "Python 3",
   "language": "python",
   "name": "python3"
  },
  "language_info": {
   "codemirror_mode": {
    "name": "ipython",
    "version": 2
   },
   "file_extension": ".py",
   "mimetype": "text/x-python",
   "name": "python",
   "nbconvert_exporter": "python",
   "pygments_lexer": "ipython2",
   "version": "2.7.6"
  }
 },
 "nbformat": 4,
 "nbformat_minor": 5
}
