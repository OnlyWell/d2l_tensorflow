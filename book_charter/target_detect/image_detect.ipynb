{
 "cells": [
  {
   "cell_type": "code",
   "id": "initial_id",
   "metadata": {
    "collapsed": true,
    "ExecuteTime": {
     "end_time": "2025-07-08T13:48:48.816569Z",
     "start_time": "2025-07-08T13:47:29.435619Z"
    }
   },
   "source": [
    "'''\n",
    "    图像辨识: 语义分割、目标检测、定位、实例分割\n",
    "\n",
    "    目标检测要同时识别对象的类别和位置:\n",
    "    1.分类(Classification): 辨识对象的类别\n",
    "    2,回归(Regression):找到对象的位置,包括对象左上角的坐标和宽度/高度\n",
    "'''\n",
    "# 滑动窗口算法\n",
    "'''\n",
    "    裁剪窗口 ---> 辨识窗口内是否有对象 --->滑动窗口 -->缩小原图尺寸 --->回到步骤1,辨识大尺寸对象\n",
    "'''\n",
    "import cv2\n",
    "import time\n",
    "import imutils\n",
    "\n",
    "# 1.定义金字塔操作函数\n",
    "## 参数: 原图, 每次缩小倍数, minSize:最小尺寸\n",
    "def pyramid(image, scale=1.5, minSize=(30, 30)):\n",
    "\n",
    "    yield image\n",
    "    while True:\n",
    "        w = int(image.shape[1] / scale)\n",
    "        image = imutils.resize(image, width=w)\n",
    "        if image.shape[0] < minSize[1] or image.shape[1] < minSize[0]:\n",
    "            break\n",
    "        yield image\n",
    "# 2.滑动窗口函数\n",
    "def sliding_window(image, stepSize, windowSize):\n",
    "    for y in range(0, image.shape[0], stepSize): #向下滑动stepSize格\n",
    "        for x in range(0, image.shape[1], stepSize): #向右滑动stepSize格\n",
    "            # 传回裁剪后的窗口\n",
    "            yield (x, y, image[y:y + windowSize[1], x:x + windowSize[0]])\n",
    "\n",
    "# 4.测试\n",
    "image = cv2.imread(\"./img/1.jpg\")\n",
    "\n",
    "## 窗口尺寸\n",
    "winW,winH = 128,128\n",
    "\n",
    "## 获取金字塔的各种尺寸\n",
    "for resized in pyramid(image, scale=1.5):\n",
    "    ### 滑动窗口\n",
    "    for (x,y,window) in sliding_window(resized, stepSize=32, windowSize=(winW,winH)):\n",
    "        # 窗口尺寸不合适即放弃,滑动到边缘时,尺寸过小\n",
    "        if window.shape[0] != winH or window.shape[1] != winW:\n",
    "            continue\n",
    "        # 标示滑动的窗口\n",
    "        clone = resized.copy()\n",
    "        cv2.rectangle(clone, (x,y), (x+winW,y+winH), (0,255,0),2)\n",
    "        cv2.imshow(\"Window\", clone)\n",
    "        cv2.waitKey(1)\n",
    "\n",
    "        time.sleep(0.025)\n",
    "\n",
    "# 结束时关闭窗口\n",
    "cv2.destroyAllWindows()"
   ],
   "outputs": [],
   "execution_count": 1
  }
 ],
 "metadata": {
  "kernelspec": {
   "display_name": "Python 3",
   "language": "python",
   "name": "python3"
  },
  "language_info": {
   "codemirror_mode": {
    "name": "ipython",
    "version": 2
   },
   "file_extension": ".py",
   "mimetype": "text/x-python",
   "name": "python",
   "nbconvert_exporter": "python",
   "pygments_lexer": "ipython2",
   "version": "2.7.6"
  }
 },
 "nbformat": 4,
 "nbformat_minor": 5
}
