{
 "cells": [
  {
   "cell_type": "code",
   "id": "initial_id",
   "metadata": {
    "collapsed": true,
    "ExecuteTime": {
     "end_time": "2025-06-15T13:52:40.354889Z",
     "start_time": "2025-06-15T13:52:40.331557Z"
    }
   },
   "source": [
    "import cv2\n",
    "##计算卷积\n",
    "import numpy as np\n",
    "import skimage.data\n",
    "\n",
    "#测试数据\n",
    "source_map = np.array(list('1110001110001110011001100')).astype(np.int32)\n",
    "source_map = source_map.reshape(5,5)\n",
    "print(f'原始数据:\\n{source_map}')\n",
    "\n",
    "#滤波器(Filter)\n",
    "filter1 = np.array(list('101010101')).astype(np.int32).reshape(3,3)\n",
    "print(f'滤波器1:\\n{filter1}')\n",
    "\n",
    "#计算卷积\n",
    "##初始化计算结果的矩阵\n",
    "width = height = source_map.shape[0] - filter1.shape[0] + 1\n",
    "result = np.zeros((width, height))\n",
    "\n",
    "# 计算每一格\n",
    "for i in range(width):\n",
    "    for j in range(height):\n",
    "        # 获取当前格子对应的数据\n",
    "        value = source_map[i:i+filter1.shape[0], j:j+filter1.shape[1]] * filter1\n",
    "        # 计算\n",
    "        result[i, j] = np.sum(value)\n",
    "print(f'卷积结果:\\n{result}')\n"
   ],
   "outputs": [
    {
     "name": "stdout",
     "output_type": "stream",
     "text": [
      "原始数据:\n",
      "[[1 1 1 0 0]\n",
      " [0 1 1 1 0]\n",
      " [0 0 1 1 1]\n",
      " [0 0 1 1 0]\n",
      " [0 1 1 0 0]]\n",
      "滤波器1:\n",
      "[[1 0 1]\n",
      " [0 1 0]\n",
      " [1 0 1]]\n",
      "卷积结果:\n",
      "[[4. 3. 4.]\n",
      " [2. 4. 3.]\n",
      " [2. 3. 4.]]\n"
     ]
    }
   ],
   "execution_count": 9
  },
  {
   "metadata": {
    "ExecuteTime": {
     "end_time": "2025-06-15T14:06:12.788785Z",
     "start_time": "2025-06-15T14:06:12.776080Z"
    }
   },
   "cell_type": "code",
   "source": [
    "'''\n",
    "    使用scipy的卷积函数验证\n",
    "\n",
    "    二维卷积Conv2D一般用来图像上面;一维卷积Conv1D可用于语音或者文字方面,只考虑上下文;三维卷积Conv3D可用于\n",
    "    立体的对象\n",
    "'''\n",
    "from scipy.signal import convolve2d\n",
    "#计算二维卷积\n",
    "convolve2d(source_map, filter1,mode='valid')"
   ],
   "id": "c177bec4d289505d",
   "outputs": [
    {
     "data": {
      "text/plain": [
       "array([[4, 3, 4],\n",
       "       [2, 4, 3],\n",
       "       [2, 3, 4]], dtype=int32)"
      ]
     },
     "execution_count": 13,
     "metadata": {},
     "output_type": "execute_result"
    }
   ],
   "execution_count": 13
  },
  {
   "metadata": {},
   "cell_type": "code",
   "source": [
    "'''\n",
    "    各式卷积\n",
    "   pip install scikit-image\n",
    "   pip install opencv-python\n",
    "'''\n",
    "#1.定义一个卷积的影像转换函数\n",
    "from skimage.exposure import rescale_intensity\n",
    "import skimage\n",
    "import cv2\n",
    "\n",
    "\n",
    "def convolve(image,kernel):\n",
    "    #   取得图像和滤波器的宽高\n",
    "    (iH,iW) = image.shape[:2]\n",
    "    (kH,kW) = kernel.shape[:2]\n",
    "\n",
    "    # 计算padding = 'same'单边所需的补零行数\n",
    "    pad = int((kW-1)/2)\n",
    "    image = cv2.copyMakeBorder(image,pad,pad,pad,pad,cv2.BORDER_REPLICATE)\n",
    "    output = np.zeros((iH,iW),dtype='float32')\n",
    "\n",
    "    #卷积\n",
    "    for y in np.arange(pad,iH+pad):\n",
    "        for x in np.arange(pad,iW+pad):\n",
    "            roi = image[y-pad:y+pad+1,x-pad:x+pad+1] #裁切图像\n",
    "            k = (roi *kernel).sum() #卷积计算\n",
    "            output[y-pad, x-pad] = k #更新计算结果的矩阵\n",
    "\n",
    "    #调整影响色彩深浅范围至(0,255)\n",
    "    output = rescale_intensity(output,in_range=(0,255))\n",
    "    output = (output*255).astype('uint8')\n",
    "    #回传结果影像\n",
    "    return output\n",
    "\n",
    "#获取skimage内置的图像\n",
    "image = skimage.data.chelsea()\n",
    "cv2.imshow('Original',image)\n",
    "\n",
    "#2.灰阶化\n",
    "gray = cv2.cvtColor(image,cv2.COLOR_BGR2GRAY)\n",
    "cv2.imshow('Gray',gray)\n",
    "\n",
    "#绑定Enter键关闭窗口\n",
    "cv2.waitKey(0)\n",
    "cv2.destroyAllWindows()"
   ],
   "id": "10d4e69621f42b7f",
   "outputs": [],
   "execution_count": null
  },
  {
   "metadata": {
    "ExecuteTime": {
     "end_time": "2025-06-16T14:13:54.002897Z",
     "start_time": "2025-06-16T14:13:47.194265Z"
    }
   },
   "cell_type": "code",
   "source": [
    "## 3.模糊化\n",
    "###小模糊filter\n",
    "import numpy as np\n",
    "\n",
    "smallBlur = np.ones((7,7),dtype='float') * (1.0/(7*7))\n",
    "\n",
    "###卷积\n",
    "convolveOutput = convolve(gray,smallBlur)\n",
    "opencvOutput = cv2.filter2D(gray,-1,smallBlur)\n",
    "cv2.imshow('little Blur',convolveOutput)\n",
    "\n",
    "### 大模糊\n",
    "largeBlur = np.ones((21,21),dtype='float') * (1.0/(21*21))\n",
    "\n",
    "### 卷积\n",
    "convolveOutput = convolve(gray,largeBlur)\n",
    "opencvOutput = cv2.filter2D(gray,-1,largeBlur)\n",
    "cv2.imshow('large Blur',convolveOutput)\n",
    "\n",
    "#按Enter键关闭窗口\n",
    "cv2.waitKey(0)\n",
    "cv2.destroyAllWindows()\n"
   ],
   "id": "3c6404bafa9439df",
   "outputs": [],
   "execution_count": 6
  },
  {
   "metadata": {
    "ExecuteTime": {
     "end_time": "2025-06-16T14:14:08.052244Z",
     "start_time": "2025-06-16T14:14:01.489662Z"
    }
   },
   "cell_type": "code",
   "source": [
    "## 4.锐化(Sharpen):可使图像的对比更加明显\n",
    "import numpy as np\n",
    "sharpen = np.array((\n",
    "    [0,-1,0],\n",
    "    [-1,5,-1],\n",
    "    [0,-1,0]\n",
    "),dtype='int')\n",
    "\n",
    "### 卷积\n",
    "convolveOutput = convolve(gray,sharpen)\n",
    "opencvOutput = cv2.filter2D(gray,-1,sharpen)\n",
    "cv2.imshow('Sharpen',convolveOutput)\n",
    "\n",
    "##按Enter键关闭窗口\n",
    "cv2.waitKey(0)\n",
    "cv2.destroyAllWindows()"
   ],
   "id": "f98f687f290de1f8",
   "outputs": [],
   "execution_count": 7
  },
  {
   "metadata": {
    "ExecuteTime": {
     "end_time": "2025-06-16T14:14:17.406002Z",
     "start_time": "2025-06-16T14:14:11.454915Z"
    }
   },
   "cell_type": "code",
   "source": [
    "## 5.Laplacian边缘检测\n",
    "laplacian = np.array((\n",
    "    [0,1,0],\n",
    "    [1,-4,1],\n",
    "    [0,1,0]\n",
    "),dtype='int')\n",
    "\n",
    "###卷积\n",
    "convolveOutput = convolve(gray,laplacian)\n",
    "opencvOutput = cv2.filter2D(gray,-1,laplacian)\n",
    "cv2.imshow('Laplacian edge detection',convolveOutput)\n",
    "\n",
    "### Enter关闭窗口\n",
    "cv2.waitKey(0)\n",
    "cv2.destroyAllWindows()"
   ],
   "id": "ac20044c8b84195a",
   "outputs": [],
   "execution_count": 8
  },
  {
   "metadata": {
    "ExecuteTime": {
     "end_time": "2025-06-16T14:14:24.859401Z",
     "start_time": "2025-06-16T14:14:20.936136Z"
    }
   },
   "cell_type": "code",
   "source": [
    "## 6.Sobel X轴边缘检测:沿着X轴检测边缘,可以检测垂直线特征\n",
    "sobelX = np.array((\n",
    "    [-1,0,1],\n",
    "    [-2,0,2],\n",
    "    [-1,0,1]\n",
    "),dtype='int')\n",
    "\n",
    "###卷积\n",
    "convolveOutput = convolve(gray,sobelX)\n",
    "opencvOutput = cv2.filter2D(gray,-1,sobelX)\n",
    "cv2.imshow('Sobel X',convolveOutput)\n",
    "\n",
    "### Enter关闭窗口\n",
    "cv2.waitKey(0)\n",
    "cv2.destroyAllWindows()"
   ],
   "id": "c761fbf58d132047",
   "outputs": [],
   "execution_count": 9
  },
  {
   "metadata": {
    "ExecuteTime": {
     "end_time": "2025-06-16T14:14:35.972404Z",
     "start_time": "2025-06-16T14:14:31.491975Z"
    }
   },
   "cell_type": "code",
   "source": [
    "\n",
    "## 7.Sobel Y轴边缘检测:沿着Y轴检测边缘,可以检测水平线特征\n",
    "sobelY = np.array((\n",
    "    [-1,-2,-1],\n",
    "    [0,0,0],\n",
    "    [1,2,1]\n",
    "),dtype='int')\n",
    "\n",
    "###卷积\n",
    "convolveOutput = convolve(gray,sobelY)\n",
    "opencvOutput = cv2.filter2D(gray,-1,sobelY)\n",
    "cv2.imshow('Sobel Y',convolveOutput)\n",
    "\n",
    "## Enter关闭窗口\n",
    "cv2.waitKey(0)\n",
    "cv2.destroyAllWindows()"
   ],
   "id": "f0334719d4399778",
   "outputs": [],
   "execution_count": 10
  }
 ],
 "metadata": {
  "kernelspec": {
   "display_name": "Python 3",
   "language": "python",
   "name": "python3"
  },
  "language_info": {
   "codemirror_mode": {
    "name": "ipython",
    "version": 2
   },
   "file_extension": ".py",
   "mimetype": "text/x-python",
   "name": "python",
   "nbconvert_exporter": "python",
   "pygments_lexer": "ipython2",
   "version": "2.7.6"
  }
 },
 "nbformat": 4,
 "nbformat_minor": 5
}
