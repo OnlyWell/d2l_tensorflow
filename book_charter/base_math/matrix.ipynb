{
 "cells": [
  {
   "cell_type": "code",
   "id": "initial_id",
   "metadata": {
    "collapsed": true,
    "ExecuteTime": {
     "end_time": "2025-02-06T13:58:28.588163Z",
     "start_time": "2025-02-06T13:58:28.576673Z"
    }
   },
   "source": [
    "import matplotlib.pyplot as plt\n",
    "import numpy as np\n",
    "\n",
    "#矩阵\n",
    "A = np.array([[1,2,3],[4,5,6]])\n",
    "B = np.array([[6,5,4],[3,2,1]])\n",
    "\n",
    "#矩阵加法\n",
    "print(A+B)\n",
    "\n",
    "#矩阵减法\n",
    "print(\"\\n 矩阵减法\")\n",
    "print(A-B)\n"
   ],
   "outputs": [
    {
     "name": "stdout",
     "output_type": "stream",
     "text": [
      "[[7 7 7]\n",
      " [7 7 7]]\n",
      "\n",
      " 矩阵减法\n",
      "[[-5 -3 -1]\n",
      " [ 1  3  5]]\n"
     ]
    }
   ],
   "execution_count": 2
  },
  {
   "metadata": {
    "ExecuteTime": {
     "end_time": "2025-02-06T14:06:00.325220Z",
     "start_time": "2025-02-06T14:06:00.311158Z"
    }
   },
   "cell_type": "code",
   "source": [
    "#矩阵乘除法\n",
    "C = np.array([[1,2,4],\n",
    "              [4,5,6]])\n",
    "D = np.array([[9,8],\n",
    "              [7,6],\n",
    "              [5,4]\n",
    "              ])\n",
    "\n",
    "print(\"\\n 矩阵乘法\")\n",
    "print(C@D)\n",
    "# print(np.dot(C,D))\n",
    "# print(np.matmul(C,D))\n",
    "print(\"C@D =======  D@C\")\n",
    "print(D@C)"
   ],
   "id": "883a6a811440e477",
   "outputs": [
    {
     "name": "stdout",
     "output_type": "stream",
     "text": [
      "\n",
      " 矩阵乘法\n",
      "[[ 43  36]\n",
      " [101  86]]\n",
      "C@D 与D@C\n",
      "[[41 58 84]\n",
      " [31 44 64]\n",
      " [21 30 44]]\n"
     ]
    }
   ],
   "execution_count": 7
  },
  {
   "metadata": {
    "ExecuteTime": {
     "end_time": "2025-02-06T14:12:55.742897Z",
     "start_time": "2025-02-06T14:12:55.732317Z"
    }
   },
   "cell_type": "code",
   "source": [
    "#特殊矩阵\n",
    "A = np.array([[1,2,3],[4,5,6]])\n",
    "\n",
    "#矩阵的转置\n",
    "print(\"矩阵转置方法1\")\n",
    "print(A.T)\n",
    "#矩阵转置\n",
    "print(\"矩阵转置方法2\")\n",
    "print(np.transpose(A))"
   ],
   "id": "b68a8fc360a934d3",
   "outputs": [
    {
     "name": "stdout",
     "output_type": "stream",
     "text": [
      "矩阵转置方法1\n",
      "[[1 4]\n",
      " [2 5]\n",
      " [3 6]]\n",
      "矩阵转置方法2\n",
      "[[1 4]\n",
      " [2 5]\n",
      " [3 6]]\n"
     ]
    }
   ],
   "execution_count": 9
  },
  {
   "metadata": {
    "ExecuteTime": {
     "end_time": "2025-02-06T14:16:18.915584Z",
     "start_time": "2025-02-06T14:16:18.723686Z"
    }
   },
   "cell_type": "code",
   "source": [
    "#反矩阵,Row和Column必须相等,即方阵\n",
    "A = np.array([[1,2,3],[4,5,6],[7,8,9]])\n",
    "\n",
    "print(\"A的反矩阵\")\n",
    "print(np.linalg.inv(A))\n"
   ],
   "id": "86d4c45ca9ff6eac",
   "outputs": [
    {
     "name": "stdout",
     "output_type": "stream",
     "text": [
      "A的反矩阵\n",
      "[[ 3.15251974e+15 -6.30503948e+15  3.15251974e+15]\n",
      " [-6.30503948e+15  1.26100790e+16 -6.30503948e+15]\n",
      " [ 3.15251974e+15 -6.30503948e+15  3.15251974e+15]]\n"
     ]
    }
   ],
   "execution_count": 10
  },
  {
   "metadata": {
    "ExecuteTime": {
     "end_time": "2025-02-06T14:34:21.931400Z",
     "start_time": "2025-02-06T14:34:21.915836Z"
    }
   },
   "cell_type": "code",
   "source": [
    "#单位矩阵\n",
    "A = np.array([[1,2],[3,4]])\n",
    "print(\"单位矩阵\")\n",
    "print(np.eye(2))\n",
    "\n",
    "#矩阵@反矩阵=单位矩阵,表示A为非奇异矩阵\n",
    "print(\"A@A.inv = I\")\n",
    "print(A @ np.linalg.inv(A))\n",
    "\n",
    "print(\"==========================================\")\n",
    "A = np.array([[1,2,3],[4,5,6],[7,8,9]])\n",
    "print(\"A@A.inv = I\")\n",
    "print(A @ np.linalg.inv(A))"
   ],
   "id": "5bc8fd362a242e1b",
   "outputs": [
    {
     "name": "stdout",
     "output_type": "stream",
     "text": [
      "单位矩阵\n",
      "[[1. 0.]\n",
      " [0. 1.]]\n",
      "A@A.inv = I\n",
      "[[1.00000000e+00 1.11022302e-16]\n",
      " [0.00000000e+00 1.00000000e+00]]\n",
      "==========================================\n",
      "A@A.inv = I\n",
      "[[ 0.   1.  -0.5]\n",
      " [ 0.   2.  -1. ]\n",
      " [ 0.   3.   2.5]]\n"
     ]
    }
   ],
   "execution_count": 17
  },
  {
   "metadata": {
    "jupyter": {
     "is_executing": true
    }
   },
   "cell_type": "code",
   "source": [
    "print(np.zeros((7,7)))\n",
    "print(np.ones((7,7)))"
   ],
   "id": "de7ca5bacfb14ba6",
   "outputs": [],
   "execution_count": null
  },
  {
   "metadata": {
    "ExecuteTime": {
     "end_time": "2025-02-06T14:41:24.124988Z",
     "start_time": "2025-02-06T14:41:24.120034Z"
    }
   },
   "cell_type": "code",
   "source": [
    "#求解方程组\n",
    "'''\n",
    "    x + y = 16\n",
    "    10x + 25y = 250\n",
    "\n",
    "    转化为矩阵\n",
    "    AX = B\n",
    "    A@np.linalg.inv(A) @ X = B @ np.linalg.inv(A)\n",
    "    IX = B@np.linalg.inv(A)   # I为单位矩阵\n",
    "    X = B@ np.linalg.inv(A)\n",
    "'''\n",
    "A = np.array([[1,1],[10,25]])\n",
    "b = np.array([16,250])\n",
    "#求解X矩阵\n",
    "print(np.linalg.solve(A,b))"
   ],
   "id": "65a8bb69a2e019b7",
   "outputs": [
    {
     "name": "stdout",
     "output_type": "stream",
     "text": [
      "[10.  6.]\n"
     ]
    }
   ],
   "execution_count": 22
  },
  {
   "metadata": {
    "ExecuteTime": {
     "end_time": "2025-02-06T14:50:10.046972Z",
     "start_time": "2025-02-06T14:50:09.979894Z"
    }
   },
   "cell_type": "code",
   "source": [
    "#矩阵的相关方法\n",
    "A = np.array([[1,2,3],[4,5,6],[7,8,9]])\n",
    "\n",
    "#矩阵求逆\n",
    "print(\"矩阵求逆\")\n",
    "print(np.linalg.inv(A))\n",
    "\n",
    "#矩阵的特征值和特征向量\n",
    "'''\n",
    "\n",
    "特征值：表示线性变换在特征向量方向上的缩放比例。\n",
    "特征向量：表示在该方向上仅被缩放而不改变方向的向量。\n",
    "\n",
    "'''\n",
    "print(\"矩阵的特征值和特征向量\")\n",
    "eigenvalues, eigenvectors = np.linalg.eig(A)\n",
    "print(eigenvalues)\n",
    "print(eigenvectors)\n",
    "\n",
    "#矩阵的行列式\n",
    "'''\n",
    "行列式是一个从方阵到实数的映射，具有以下特性：\n",
    "几何意义：行列式的绝对值表示矩阵所代表的线性变换对空间的体积（或面积）的缩放比例。\n",
    "代数意义：行列式用于判断矩阵是否可逆、求解线性方程组、计算特征值等。\n",
    "'''\n",
    "print(\"矩阵的行列式\")\n",
    "print(np.linalg.det(A))\n",
    "\n",
    "#奇异值分解\n",
    "'''\n",
    "奇异值分解（SVD）是一种用于分解矩阵的数学方法，它将一个矩阵分解为三个矩阵的乘积：\n",
    "U、S和VT，其中U和VT是正交矩阵，S是一个对角矩阵。\n",
    "\n",
    "U是一个m * m的正交矩阵,其列向量被称为左奇异向量\n",
    "Σ是一个m * n的对角矩阵,矩阵中的对角元素为矩阵A的奇异值,这些奇异值是非负数,并按降序排列\n",
    "VT是n*n的正交矩阵,矩阵V的列向量被称为右奇异向量。\n",
    "\n",
    "\n",
    "奇异值的个数等于矩阵A的秩,最多为min(m,n)\n",
    "奇异值描述在矩阵在不同方向上的伸缩比例\n",
    "'''\n",
    "print(\"奇异值分解\")\n",
    "U,s,VT = np.linalg.svd(A)\n",
    "print(\"U\",U)\n",
    "print(\"s\",s)\n",
    "print(\"VT\",VT)"
   ],
   "id": "fdc1c10d5b2e6e84",
   "outputs": [
    {
     "name": "stdout",
     "output_type": "stream",
     "text": [
      "矩阵求逆\n",
      "[[ 3.15251974e+15 -6.30503948e+15  3.15251974e+15]\n",
      " [-6.30503948e+15  1.26100790e+16 -6.30503948e+15]\n",
      " [ 3.15251974e+15 -6.30503948e+15  3.15251974e+15]]\n",
      "矩阵的特征值和特征向量\n",
      "[ 1.61168440e+01 -1.11684397e+00 -3.38433605e-16]\n",
      "[[-0.23197069 -0.78583024  0.40824829]\n",
      " [-0.52532209 -0.08675134 -0.81649658]\n",
      " [-0.8186735   0.61232756  0.40824829]]\n",
      "矩阵的行列式\n",
      "-9.51619735392994e-16\n",
      "奇异值分解\n",
      "U [[-0.21483724  0.88723069  0.40824829]\n",
      " [-0.52058739  0.24964395 -0.81649658]\n",
      " [-0.82633754 -0.38794278  0.40824829]]\n",
      "s [1.68481034e+01 1.06836951e+00 3.33475287e-16]\n",
      "VT [[-0.47967118 -0.57236779 -0.66506441]\n",
      " [-0.77669099 -0.07568647  0.62531805]\n",
      " [-0.40824829  0.81649658 -0.40824829]]\n"
     ]
    }
   ],
   "execution_count": 24
  },
  {
   "metadata": {
    "ExecuteTime": {
     "end_time": "2025-02-07T11:53:11.479178Z",
     "start_time": "2025-02-07T11:53:11.102036Z"
    }
   },
   "cell_type": "code",
   "source": [
    "'''\n",
    "    x + y = 16\n",
    "    10x + 25y = 250\n",
    "'''\n",
    "import numpy as np\n",
    "import matplotlib.pyplot as plt\n",
    "\n",
    "A = np.array([[1,1],[10,25]])\n",
    "B = np.array([16,250])\n",
    "\n",
    "#求解x,y\n",
    "x,y = np.linalg.solve(A,B)\n",
    "print(x,y)\n",
    "\n",
    "print(np.linalg.inv(A) @ B)\n",
    "\n",
    "print(\"=============联立方程========================\")\n",
    "#第一个方程的两个端点\n",
    "A1 = np.array([16,0])\n",
    "A2 = np.array([0,16])\n",
    "\n",
    "#第二个方程的两个端点\n",
    "B1 = np.array([25,0])\n",
    "B2 = np.array([0,10])\n",
    "\n",
    "#画线\n",
    "plt.plot(A1,A2, color='red')\n",
    "plt.plot(B1,B2, color='blue')\n",
    "\n",
    "plt.xlabel(\"x\")\n",
    "plt.ylabel(\"y\")\n",
    "plt.grid()\n",
    "\n",
    "#交叉点\n",
    "plt.scatter([10],[6], color='green',s=500)\n",
    "plt.show()\n",
    "\n"
   ],
   "id": "7e525a7acacc806d",
   "outputs": [
    {
     "name": "stdout",
     "output_type": "stream",
     "text": [
      "10.0 6.0\n",
      "[10.  6.]\n",
      "=============联立方程========================\n"
     ]
    },
    {
     "data": {
      "text/plain": [
       "<Figure size 640x480 with 1 Axes>"
      ],
      "image/png": "[encoded data removed]"
     },
     "metadata": {},
     "output_type": "display_data"
    }
   ],
   "execution_count": 9
  },
  {
   "metadata": {
    "ExecuteTime": {
     "end_time": "2025-02-07T12:03:59.966315Z",
     "start_time": "2025-02-07T12:03:59.950715Z"
    }
   },
   "cell_type": "code",
   "source": [
    "#使用numpy库解方程组\n",
    "'''\n",
    "    -x + 3y = -72\n",
    "    3x + 4y -4z = -4\n",
    "    -20x -12y + 5z = -50\n",
    "'''\n",
    "A = np.array([[-1,3,0],[3,4,-4],[-20,-12,5]])\n",
    "B = np.array([-72,-4,-50])\n",
    "\n",
    "print(\"A = \")\n",
    "print(A)\n",
    "print(\"B = \")\n",
    "print(B.reshape(3,1))\n",
    "print(\"===================\")\n",
    "#求解x,y,z\n",
    "print(np.linalg.solve(A,B))\n",
    "\n",
    "print(\"==========求解方式2===========\")\n",
    "print(np.linalg.inv(A) @ B)\n",
    "import numpy as np"
   ],
   "id": "e6881beb7ea83657",
   "outputs": [
    {
     "name": "stdout",
     "output_type": "stream",
     "text": [
      "A = \n",
      "[[ -1   3   0]\n",
      " [  3   4  -4]\n",
      " [-20 -12   5]]\n",
      "B = \n",
      "[[-72]\n",
      " [ -4]\n",
      " [-50]]\n",
      "===================\n",
      "[ 12. -20. -10.]\n",
      "==========求解方式2===========\n",
      "[ 12. -20. -10.]\n"
     ]
    }
   ],
   "execution_count": 14
  },
  {
   "metadata": {
    "ExecuteTime": {
     "end_time": "2025-02-07T12:09:01.424492Z",
     "start_time": "2025-02-07T12:09:01.369739Z"
    }
   },
   "cell_type": "code",
   "source": [
    "#使用sympy求解\n",
    "from sympy.solvers import solve\n",
    "from sympy import symbols\n",
    "\n",
    "x,y,z = symbols('x y z')\n",
    "eq1 = -x + 3*y + 72\n",
    "eq2 = 3*x + 4*y - 4*z + 4\n",
    "eq3 = -20*x - 12*y + 5*z + 50\n",
    "solutions = solve((eq1,eq2,eq3), (x,y,z))\n",
    "print(solutions)"
   ],
   "id": "f76ed227a48b6e49",
   "outputs": [
    {
     "name": "stdout",
     "output_type": "stream",
     "text": [
      "{x: 12, y: -20, z: -10}\n"
     ]
    }
   ],
   "execution_count": 16
  }
 ],
 "metadata": {
  "kernelspec": {
   "display_name": "Python 3",
   "language": "python",
   "name": "python3"
  },
  "language_info": {
   "codemirror_mode": {
    "name": "ipython",
    "version": 2
   },
   "file_extension": ".py",
   "mimetype": "text/x-python",
   "name": "python",
   "nbconvert_exporter": "python",
   "pygments_lexer": "ipython2",
   "version": "2.7.6"
  }
 },
 "nbformat": 4,
 "nbformat_minor": 5
}
