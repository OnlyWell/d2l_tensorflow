{
 "cells": [
  {
   "cell_type": "code",
   "execution_count": null,
   "id": "initial_id",
   "metadata": {
    "collapsed": true
   },
   "outputs": [],
   "source": [
    "'''\n",
    "    自然语言的应用:\n",
    "    文本分类(Text Classification)、信息检索(Information Retrieval)、文字校对(Text Proofing)、自然语言生成(Natural Language Generation)、问答系统(Question Answering)、机器翻译(Machine Translation)、自动摘要(Audomatic Summarization)、\n",
    "    情绪分析(Sentiment Analysis)、语音识别(Speech Recognition)\n",
    "'''\n",
    "'''\n",
    "    词袋(Bag of Words,BOW):\n",
    "        1. 分词(Tokenization): 将文章中每个词汇切开,整理成生字表或者字典(Vocabulary)。中文比较复杂.\n",
    "        2. 前置处理(Preprocessing): 将词汇做词形还原,转换成小写。词形还原是动词转为原形,复数转单数,避免词态不同,词汇统计出现分歧。\n",
    "        3. 去除停用词(Stop Word): be动词、助动词、代名词、介词、系动词、冠词等。否测统计结构都是这些词出现频率最高\n",
    "        4. 词汇出现次数统计: 计算每个词汇在文章出现的次数,并由高到低排列。\n",
    "'''"
   ]
  },
  {
   "metadata": {
    "ExecuteTime": {
     "end_time": "2025-07-08T14:39:21.547360Z",
     "start_time": "2025-07-08T14:39:21.537535Z"
    }
   },
   "cell_type": "code",
   "source": [
    "'''\n",
    "    以BOW实现自动摘要\n",
    "'''\n",
    "import collections\n",
    "\n",
    "# 1.设置停顿词\n",
    "stop_words = ['a', 'about', 'above', 'after', 'again', 'against', 'all', 'am', 'an', 'and', 'any', 'are', 'aren\\'t', 'as', 'at', 'be', 'because', 'been', 'before', 'being', 'below', 'between', 'both', 'but', 'by', 'can\\'t', 'cannot', 'could', 'couldn', 'did', 'didn\\'t', 'do', 'does', 'doesn\\'t', 'doing', 'don\\'t', 'down', 'during', 'each', 'few', 'for', 'from', 'further', 'had', 'hadn\\'t', 'has', 'hasn\\'t', 'have', 'haven\\'t', 'having', 'he', 'he\\'d','most','the','of','in','to']\n",
    "\n",
    "maxlen = 100000\n",
    "\n",
    "word_freqs = collections.Counter()\n",
    "with open(\"./asset/attetion.txt\",'r+',encoding='utf-8') as f:\n",
    "    for line in f:\n",
    "      # 转小写,分词\n",
    "        words = line.lower().split(' ')\n",
    "        #统计字数出现频次\n",
    "        if len(words) > maxlen:\n",
    "            maxlen = len(words)\n",
    "        for word in words:\n",
    "            if not (word in stop_words):\n",
    "                word_freqs[word] += 1\n",
    "\n",
    "print(word_freqs.most_common(20))"
   ],
   "id": "1f629f07db6d1e12",
   "outputs": [
    {
     "name": "stdout",
     "output_type": "stream",
     "text": [
      "[('input', 9), ('sequence', 8), ('recurrent', 6), ('attention', 6), ('neural', 5), ('modeling', 5), ('models', 5), ('model', 5), ('on', 5), ('representations', 5), ('transduction', 4), ('computation', 4), ('positions', 4), ('this', 4), ('output', 4), ('memory', 3), ('state', 3), ('such', 3), ('language', 3), ('sequential', 3)]\n"
     ]
    }
   ],
   "execution_count": 6
  },
  {
   "metadata": {
    "ExecuteTime": {
     "end_time": "2025-07-09T14:26:35.639732Z",
     "start_time": "2025-07-09T14:26:35.617789Z"
    }
   },
   "cell_type": "code",
   "source": [
    "'''\n",
    "    TF-IDF,非停顿词有时候也会高频出现,例如only等。需要降低这些对上下文无效词的比重\n",
    "'''\n",
    "from sklearn.feature_extraction.text import CountVectorizer\n",
    "from sklearn.feature_extraction.text import TfidfTransformer\n",
    "import numpy as np\n",
    "\n",
    "# 1.设定输入数据,最后依据为问题,其他的为回答\n",
    "corpus = [\n",
    "    'This is the first document.',\n",
    "    'This is the second second document.',\n",
    "    'And the third one.',\n",
    "    'Is this the first document?',\n",
    "]\n",
    "\n",
    "# 2.将例句转换为词频矩阵,计算各个词汇出现的次数\n",
    "vectorizer = CountVectorizer()\n",
    "X = vectorizer.fit_transform(corpus)\n",
    "\n",
    "## 生字表\n",
    "word = vectorizer.get_feature_names_out()\n",
    "print(\"Vocabulary: \",word)\n",
    "\n",
    "# 4.查看四句话的BOW\n",
    "print(\"BOW: \",X.toarray())\n",
    "\n",
    "# 5.TF-IDF转换:\n",
    "transformer = TfidfTransformer()\n",
    "tfidf = transformer.fit_transform(X)\n",
    "print(\"TF-IDF: \",tfidf.toarray())"
   ],
   "id": "20182052f7635d08",
   "outputs": [
    {
     "name": "stdout",
     "output_type": "stream",
     "text": [
      "Vocabulary:  ['and' 'document' 'first' 'is' 'one' 'second' 'the' 'third' 'this']\n",
      "BOW:  [[0 1 1 1 0 0 1 0 1]\n",
      " [0 1 0 1 0 2 1 0 1]\n",
      " [1 0 0 0 1 0 1 1 0]\n",
      " [0 1 1 1 0 0 1 0 1]]\n",
      "TF-IDF:  [[0.         0.43877674 0.54197657 0.43877674 0.         0.\n",
      "  0.35872874 0.         0.43877674]\n",
      " [0.         0.27230147 0.         0.27230147 0.         0.85322574\n",
      "  0.22262429 0.         0.27230147]\n",
      " [0.55280532 0.         0.         0.         0.55280532 0.\n",
      "  0.28847675 0.55280532 0.        ]\n",
      " [0.         0.43877674 0.54197657 0.43877674 0.         0.\n",
      "  0.35872874 0.         0.43877674]]\n"
     ]
    }
   ],
   "execution_count": 5
  }
 ],
 "metadata": {
  "kernelspec": {
   "display_name": "Python 3",
   "language": "python",
   "name": "python3"
  },
  "language_info": {
   "codemirror_mode": {
    "name": "ipython",
    "version": 2
   },
   "file_extension": ".py",
   "mimetype": "text/x-python",
   "name": "python",
   "nbconvert_exporter": "python",
   "pygments_lexer": "ipython2",
   "version": "2.7.6"
  }
 },
 "nbformat": 4,
 "nbformat_minor": 5
}
