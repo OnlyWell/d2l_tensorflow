{
 "cells": [
  {
   "cell_type": "code",
   "id": "initial_id",
   "metadata": {
    "collapsed": true,
    "jupyter": {
     "is_executing": true
    },
    "ExecuteTime": {
     "start_time": "2025-07-07T13:52:36.822726Z"
    }
   },
   "source": [
    "from locale import normalize\n",
    "\n",
    "import keras.layers\n",
    "\n",
    "'''\n",
    "    转移学习,采用部分的模型,再加上自定义的输入层和辨识层,就能够不受限于模型原先辨识的对象,也就是转移学习(transfer learning)\n",
    "\n",
    "    使用ResNet152V2模型,辨识花朵数据集\n",
    "    加载ResNet部分模型 ----> 加载flower数据集  ---> 特征缩放 ---> 建立模型 ---> 模型训练  --->预测\n",
    "    数据来源: https://www.tensorflow.org/tutorials/load_data/images\n",
    "'''\n",
    "import tensorflow as tf\n",
    "from keras.applications.resnet_v2 import  ResNet152V2\n",
    "from keras.preprocessing import image\n",
    "from keras.applications.resnet_v2 import preprocess_input\n",
    "from keras.applications.resnet_v2 import decode_predictions\n",
    "from keras.layers import Dense,GlobalAveragePooling2D\n",
    "from keras.models import Model\n",
    "import numpy as np\n",
    "import tarfile\n",
    "import os\n",
    "\n",
    "\n",
    "import pathlib\n",
    "# 1.获取数据\n",
    "# dataset_url = \"https://storage.googleapis.com/download.tensorflow.org/example_images/flower_photos.tgz\"\n",
    "# archive = tf.keras.utils.get_file(fname='flower_photos.tgz', origin=dataset_url)\n",
    "# data_dir = pathlib.Path(archive).with_suffix('')\n",
    "#\n",
    "# # 手动解压到当前目录\n",
    "# with tarfile.open(archive) as tar:\n",
    "#     tar.extractall(path='.', filter=\"data\")\n",
    "\n",
    "## 统计flower_photos目录及子目录下的所有图片的总数\n",
    "data_dir = 'flower_photos'\n",
    "num_images = sum([len(files) for r, d, files in os.walk(data_dir)])\n",
    "print(\"Total number of images: \", num_images)\n",
    "\n",
    "print(\"=========================================\")\n",
    "\n",
    "# 2. 加载数据集\n",
    "batch_size = 64\n",
    "img_height = 224\n",
    "img_width = 224\n",
    "\n",
    "## 2.1加载flower训练数据\n",
    "train_ds = tf.keras.preprocessing.image_dataset_from_directory(\n",
    "    data_dir,\n",
    "    validation_split=0.2,\n",
    "    subset=\"training\",\n",
    "    seed=123,\n",
    "    image_size=(img_height, img_width),\n",
    "    batch_size=batch_size\n",
    ")\n",
    "\n",
    "## 2.2 加载flower验证数据\n",
    "val_ds = tf.keras.preprocessing.image_dataset_from_directory(\n",
    "    data_dir,\n",
    "    validation_split=0.2,\n",
    "    subset=\"validation\",\n",
    "    seed=123,\n",
    "    image_size=(img_height, img_width),\n",
    "    batch_size=batch_size\n",
    ")\n",
    "\n",
    "# 3.特征工程处理\n",
    "normalization_layer = keras.layers.Rescaling(1./255)\n",
    "train_ds = train_ds.map(lambda x, y: (normalization_layer(x), y))\n",
    "val_ds = val_ds.map(lambda x, y: (normalization_layer(x), y))\n",
    "# 4.ResNet152V2模型\n",
    "resnet_152_model = ResNet152V2(weights='imagenet', include_top=True, input_shape=(img_height, img_width, 3))\n",
    "resnet_152_model.summary()"
   ],
   "outputs": [
    {
     "name": "stdout",
     "output_type": "stream",
     "text": [
      "Total number of images:  3671\n",
      "=========================================\n",
      "Found 3670 files belonging to 5 classes.\n",
      "Using 2936 files for training.\n",
      "Found 3670 files belonging to 5 classes.\n",
      "Using 734 files for validation.\n",
      "Downloading data from https://storage.googleapis.com/tensorflow/keras-applications/resnet/resnet152v2_weights_tf_dim_ordering_tf_kernels.h5\n",
      "\u001B[1m 21127168/242745792\u001B[0m \u001B[32m━\u001B[0m\u001B[37m━━━━━━━━━━━━━━━━━━━\u001B[0m \u001B[1m4:09\u001B[0m 1us/step"
     ]
    }
   ],
   "execution_count": null
  }
 ],
 "metadata": {
  "kernelspec": {
   "display_name": "Python 3",
   "language": "python",
   "name": "python3"
  },
  "language_info": {
   "codemirror_mode": {
    "name": "ipython",
    "version": 2
   },
   "file_extension": ".py",
   "mimetype": "text/x-python",
   "name": "python",
   "nbconvert_exporter": "python",
   "pygments_lexer": "ipython2",
   "version": "2.7.6"
  }
 },
 "nbformat": 4,
 "nbformat_minor": 5
}
