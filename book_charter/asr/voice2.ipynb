{
 "cells": [
  {
   "cell_type": "code",
   "id": "initial_id",
   "metadata": {
    "collapsed": true,
    "ExecuteTime": {
     "end_time": "2025-04-16T14:12:00.703352Z",
     "start_time": "2025-04-16T14:12:00.681159Z"
    }
   },
   "source": [
    "'''\n",
    "    麦克风接收音频和录音存盘\n",
    "'''\n",
    "import speech_recognition as sr\n",
    "import pyttsx3\n",
    "\n",
    "#列出计算机的Speaker\n",
    "speak = pyttsx3.init()\n",
    "voices = speak.getProperty('voices')\n",
    "\n",
    "for voice in voices:\n",
    "    print(voice.id)\n",
    "    print(voice.name)\n",
    "    print(voice.languages)\n",
    "    print(voice.gender)\n",
    "    print(voice.age)\n",
    "\n",
    "#指定说话者\n",
    "speak.setProperty('voice', voices[0].id)\n",
    "\n",
    "#麦克风收音\n",
    "r = sr.Recognizer()\n",
    "with sr.Microphone() as source:\n",
    "    #文字转语音\n",
    "    speak.say(\"请说话...\")\n",
    "    #等待说完\n",
    "    speak.runAndWait()\n",
    "\n",
    "    #降噪\n",
    "    r.adjust_for_ambient_noise(source)\n",
    "    #麦克风收音\n",
    "    audio = r.listen(source)\n",
    "\n",
    "#录音存档\n",
    "mic_file = '../../sample-files/audio/mic.wav'\n",
    "with open(mic_file, 'wb') as f:\n",
    "    f.write(audio.get_wav_data(convert_rate=16000))\n",
    "\n",
    "#语音识别\n",
    "try:\n",
    "    #识别英文\n",
    "    text = r.recognize_google(audio, language='en-US')\n",
    "    print('识别结果：', text)\n",
    "    #文字转语音\n",
    "    speak.say(text)\n",
    "    #等待说完\n",
    "    speak.runAndWait()\n",
    "except sr.UnknownValueError:\n",
    "    print('无法识别')\n",
    "except sr.RequestError as e:\n",
    "    print('请求错误')\n",
    "except Exception as e:\n",
    "    print(e)\n"
   ],
   "outputs": [
    {
     "name": "stdout",
     "output_type": "stream",
     "text": [
      "HKEY_LOCAL_MACHINE\\SOFTWARE\\Microsoft\\Speech\\Voices\\Tokens\\TTS_MS_ZH-CN_HUIHUI_11.0\n",
      "Microsoft Huihui Desktop - Chinese (Simplified)\n",
      "[]\n",
      "None\n",
      "None\n",
      "HKEY_LOCAL_MACHINE\\SOFTWARE\\Microsoft\\Speech\\Voices\\Tokens\\TTS_MS_EN-US_ZIRA_11.0\n",
      "Microsoft Zira Desktop - English (United States)\n",
      "[]\n",
      "None\n",
      "None\n"
     ]
    }
   ],
   "execution_count": 2
  },
  {
   "metadata": {},
   "cell_type": "code",
   "outputs": [],
   "execution_count": null,
   "source": [
    "#播放输出文件\n",
    "import IPython\n",
    "\n",
    "IPython.display.Audio(mic_file, autoplay=True)\n",
    "\n",
    "#打印音频文件的属性\n",
    "import wave\n",
    "import contextlib\n",
    "with contextlib.closing(wave.open(mic_file,'r')) as f:\n",
    "    print(\"Channels:\", f.getnchannels())\n",
    "    print(\"Sample width:\", f.getsampwidth())\n",
    "    print(\"Frame rate:\", f.getframerate())\n",
    "    print(\"Frame:\", f.getnframes())\n",
    "    print(\"Duration:\", f.getnframes() / f.getframerate())"
   ],
   "id": "ce7480e00cbbb072"
  },
  {
   "metadata": {},
   "cell_type": "code",
   "outputs": [],
   "execution_count": null,
   "source": [
    "#读取音频文件转为音频\n",
    "import speech_recognition as sr\n",
    "\n",
    "r = sr.Recognizer()\n",
    "with sr.AudioFile(mic_file) as source:\n",
    "    audio = r.record(source)\n",
    "\n",
    "#语音辨识\n",
    "try:\n",
    "    #识别英文\n",
    "    text = r.recognize_google(audio, language='en-US')\n",
    "    print('识别结果：', text)\n",
    "    #文字转语音\n",
    "    speak.say(text)\n",
    "    #等待说完\n",
    "    speak.runAndWait()\n",
    "except sr.UnknownValueError:\n",
    "    print('无法识别')\n",
    "except sr.RequestError as e:\n",
    "    print('请求错误')\n",
    "except Exception as e:\n",
    "    print(e)"
   ],
   "id": "d4c348f3e84ba2a5"
  }
 ],
 "metadata": {
  "kernelspec": {
   "display_name": "Python 3",
   "language": "python",
   "name": "python3"
  },
  "language_info": {
   "codemirror_mode": {
    "name": "ipython",
    "version": 2
   },
   "file_extension": ".py",
   "mimetype": "text/x-python",
   "name": "python",
   "nbconvert_exporter": "python",
   "pygments_lexer": "ipython2",
   "version": "2.7.6"
  }
 },
 "nbformat": 4,
 "nbformat_minor": 5
}
