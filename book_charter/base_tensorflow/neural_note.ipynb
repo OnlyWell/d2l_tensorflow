{
 "cells": [
  {
   "cell_type": "code",
   "id": "initial_id",
   "metadata": {
    "collapsed": true,
    "ExecuteTime": {
     "end_time": "2025-03-25T14:00:10.685902Z",
     "start_time": "2025-03-25T14:00:10.665449Z"
    }
   },
   "source": [
    "'''\n",
    "    神经网络学习其他知识点\n",
    "'''\n",
    "\n",
    "'''\n",
    "    1. one-hot编码,是一种常用的分类数据方法,\n",
    "    如苹果、香蕉、橙子按顺序表示为[1,0,0],[0,1,0],[0,0,1],为了消除顺序编号带来的\n",
    "    虚假数值关系,让模型只关注类别本身。\n",
    "    但是高基数的类型,会导致稀疏矩阵爆炸,很长的长度只有1个为1\n",
    "'''\n",
    "#使用sklearn实现One-Hot编码\n",
    "from sklearn.preprocessing import OneHotEncoder\n",
    "\n",
    "categories = [['苹果'],['香蕉'],['橙子']]\n",
    "onehot_encoder = OneHotEncoder()\n",
    "\n",
    "#转换数据\n",
    "one_hot = onehot_encoder.fit_transform(categories).toarray()\n",
    "print(one_hot)"
   ],
   "outputs": [
    {
     "name": "stdout",
     "output_type": "stream",
     "text": [
      "[[0. 1. 0.]\n",
      " [0. 0. 1.]\n",
      " [1. 0. 0.]]\n"
     ]
    }
   ],
   "execution_count": 2
  }
 ],
 "metadata": {
  "kernelspec": {
   "display_name": "Python 3",
   "language": "python",
   "name": "python3"
  },
  "language_info": {
   "codemirror_mode": {
    "name": "ipython",
    "version": 2
   },
   "file_extension": ".py",
   "mimetype": "text/x-python",
   "name": "python",
   "nbconvert_exporter": "python",
   "pygments_lexer": "ipython2",
   "version": "2.7.6"
  }
 },
 "nbformat": 4,
 "nbformat_minor": 5
}
